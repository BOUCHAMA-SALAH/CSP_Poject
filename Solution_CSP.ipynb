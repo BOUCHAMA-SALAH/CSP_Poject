{
  "nbformat": 4,
  "nbformat_minor": 0,
  "metadata": {
    "colab": {
      "provenance": []
    },
    "kernelspec": {
      "name": "python3",
      "display_name": "Python 3"
    },
    "language_info": {
      "name": "python"
    }
  },
  "cells": [
    {
      "cell_type": "code",
      "execution_count": null,
      "metadata": {
        "colab": {
          "base_uri": "https://localhost:8080/"
        },
        "id": "8TU1YxyD-sQQ",
        "outputId": "8d8e70ce-b133-46aa-f9c9-bf823382e2e7"
      },
      "outputs": [
        {
          "output_type": "stream",
          "name": "stdout",
          "text": [
            "Looking in indexes: https://pypi.org/simple, https://us-python.pkg.dev/colab-wheels/public/simple/\n",
            "Collecting pycsp3\n",
            "  Downloading pycsp3-2.1.2-py3-none-any.whl (41.5 MB)\n",
            "\u001b[2K     \u001b[90m━━━━━━━━━━━━━━━━━━━━━━━━━━━━━━━━━━━━━━━━\u001b[0m \u001b[32m41.5/41.5 MB\u001b[0m \u001b[31m8.2 MB/s\u001b[0m eta \u001b[36m0:00:00\u001b[0m\n",
            "\u001b[?25hRequirement already satisfied: lxml in /usr/local/lib/python3.8/dist-packages (from pycsp3) (4.9.2)\n",
            "Installing collected packages: pycsp3\n",
            "Successfully installed pycsp3-2.1.2\n"
          ]
        }
      ],
      "source": [
        "!pip install pycsp3"
      ]
    },
    {
      "cell_type": "code",
      "source": [
        "from pycsp3 import *"
      ],
      "metadata": {
        "id": "Up1u7t3h_J_1"
      },
      "execution_count": null,
      "outputs": []
    },
    {
      "cell_type": "markdown",
      "source": [
        "*   **Modélisation du problème**\n",
        "\n",
        "\n",
        "\n"
      ],
      "metadata": {
        "id": "LRIuhLrZBZpP"
      }
    },
    {
      "cell_type": "markdown",
      "source": [
        "\n",
        "\n",
        "**1.   Les données du problème**\n",
        "\n"
      ],
      "metadata": {
        "id": "wA2mxbrzCJvx"
      }
    },
    {
      "cell_type": "code",
      "source": [
        "\"\"\" Liste du nombre d’employés demandé par Amazon pour les 7 jour de la semaine.\"\"\"\n",
        "NE = [6,8,8,10,9,9,9]\n",
        "\n",
        "\"\"\" * Liste à deux dimension représentant  les disponibilités de l'employés dans la semaine.\n",
        "    * disp[i][j] == 1 si l'employé i est dispo le jour j sinon 0.\n",
        "    * Voici une exemple à 14 employé qu'on va utiliser pour illustré le travaille.\n",
        "\"\"\"\n",
        "disp =  [[0,1,0,1,1,1,1],\n",
        "         [0,0,1,1,1,1,1],\n",
        "         [0,0,1,1,1,0,0],\n",
        "         [1,1,1,1,1,1,0],\n",
        "         [0,1,1,1,1,1,1],\n",
        "         [0,1,1,1,1,1,1],\n",
        "         [0,0,0,0,0,0,0],\n",
        "         [1,0,0,0,0,0,1],\n",
        "         [0,1,1,1,0,0,0],\n",
        "         [1,0,0,1,1,1,1],\n",
        "         [0,1,1,1,0,1,1],\n",
        "         [1,0,0,1,1,1,1],\n",
        "         [1,1,1,1,1,1,1],\n",
        "         [1,1,1,1,1,0,0]]\n",
        "\"\"\"  Quelque transoformation nécessaire pour la suite     \"\"\"\n",
        "tr_disp = list(map(list, zip(*disp)))\n",
        "sum_disp = [sum(i) for i in disp]\n",
        "sum_tr = [sum(i) for i in tr_disp]"
      ],
      "metadata": {
        "id": "QmcvBr8EBbfj"
      },
      "execution_count": null,
      "outputs": []
    },
    {
      "cell_type": "markdown",
      "source": [
        "**2.   Les variables de décision**\n",
        "\n",
        "  Puisque Nous avont 7 x 14 variable de décision, J'utilise directement grâce au module pycsp un tableau de variable."
      ],
      "metadata": {
        "id": "-k2z9p8kF9ja"
      }
    },
    {
      "cell_type": "code",
      "source": [
        "\" Création du tableau a len(disp) = 14 X len(NE) = 7   \"\n",
        "x = VarArray(size=[len(disp), len(NE)], dom=range(2))"
      ],
      "metadata": {
        "id": "sRr6FmaaF9y8"
      },
      "execution_count": null,
      "outputs": []
    },
    {
      "cell_type": "markdown",
      "source": [
        "**3.   Les contraintes du probléme**"
      ],
      "metadata": {
        "id": "s7wELebvH5yT"
      }
    },
    {
      "cell_type": "markdown",
      "source": [
        "*Contrainte 1 :*\n",
        "\\begin{equation}\n",
        "      \\sum\\limits_{i\\in E} x_{ij} \\times disp(i,j) = ne(j), ~~\\forall j\\in J  \n",
        "    \\end{equation}"
      ],
      "metadata": {
        "id": "Qt7e-QQBKL5t"
      }
    },
    {
      "cell_type": "code",
      "source": [
        "def Constrainte1():\n",
        "  satisfy(\n",
        "          Sum(x[j,i]*tr_disp[i][j] for j in range(len(disp))) == NE[i]  for i in range(7)\n",
        "\n",
        "  );"
      ],
      "metadata": {
        "id": "6AtycZeaH-5v"
      },
      "execution_count": null,
      "outputs": []
    },
    {
      "cell_type": "markdown",
      "source": [
        "*Contrainte 2 :*\n",
        "\\begin{equation}\n",
        "     \\sum\\limits_{i\\in E} x_{ij} \\leq \\sum\\limits_{i\\in E} disp(i,j), ~~\\forall j\\in J\n",
        "     \\end{equation}\n"
      ],
      "metadata": {
        "id": "XnYAPVvnKwNu"
      }
    },
    {
      "cell_type": "code",
      "source": [
        "def Contrainte_2():\n",
        "  satisfy(\n",
        "          Sum(x[:,i]) <= sum_tr[i] for i in range(7)\n",
        "  );"
      ],
      "metadata": {
        "id": "pwDrU3VJKwgo"
      },
      "execution_count": null,
      "outputs": []
    },
    {
      "cell_type": "markdown",
      "source": [
        "*Contrainte 3:*\n",
        "\\begin{equation}\n",
        "     \\sum\\limits_{j\\in J} x_{ij} \\leq \\sum\\limits_{j\\in J} disp(i,j), ~~\\forall i\\in E\n",
        "     \\end{equation}"
      ],
      "metadata": {
        "id": "tx16vsaPLTFi"
      }
    },
    {
      "cell_type": "code",
      "source": [
        "def Contrainte_3():  \n",
        "  satisfy(\n",
        "          Sum(x[i]) <= sum(disp[i]) for i in range(len(disp))\n",
        "    );"
      ],
      "metadata": {
        "id": "XRtUuuunLTWS"
      },
      "execution_count": null,
      "outputs": []
    },
    {
      "cell_type": "markdown",
      "source": [
        "*Contrainte 4 : *\n",
        "\n",
        " A ) \\begin{equation}\n",
        "  \\bigg|\\sum\\limits_{j\\in J} x_{ij} - \\sum\\limits_{j\\in J} x_{\\tilde{i}j}\\bigg| \\leq S, ~~\\forall (i,\\tilde{i})\\in E^2,~ i\\neq \\tilde{i}, ~ avec ~  \\bigg|\\sum\\limits_{j\\in J} disp(i,j)- \\sum\\limits_{j\\in J} disp(\\tilde{i},j)\\bigg| \\leq S  \n",
        "\\end{equation}\n",
        "\n",
        "\n",
        " B ) \\begin{equation}\n",
        "     \\forall i\\in E, \\bigg(\\sum\\limits_{j\\in J}disp(i,j) \\leq \\phi\\bigg) \\Longrightarrow \\bigg(\\sum\\limits_{j\\in J}x_{ij} = \\sum\\limits_{j\\in J}disp(i,j)\\bigg). \n",
        "\\end{equation}\n",
        " \n",
        " avec : \\begin{equation}\n",
        "    \\phi = \\sum\\limits_{j\\in J}ne(j) / m \n",
        "\\end{equation}\n"
      ],
      "metadata": {
        "id": "NFS0yly1MXM0"
      }
    },
    {
      "cell_type": "code",
      "source": [
        "\"\"\"      \"\"\"\n",
        "phi = sum(NE) // len([i  for i in  sum_disp if i !=0])\n",
        "\n",
        "def Contrainte_4():\n",
        "  satisfy(\n",
        "        Sum(x[i]) == sum_disp[i]  if sum_disp[i] <= phi else  Sum(x[i]) >= phi for i in range(len(sum_disp))\n",
        "        \n",
        "   );\n",
        "  satisfy(\n",
        "    abs(Sum(x[i])- Sum(x[j])) <= 1 if abs(sum_disp[i]- sum_disp[j]) <= 1 and i != j else None for i in range(len(disp)) for j in range(len(disp)) \n",
        "    );  "
      ],
      "metadata": {
        "id": "qHB8Z5v5Mser"
      },
      "execution_count": null,
      "outputs": []
    },
    {
      "cell_type": "markdown",
      "source": [
        "*   **Résolution du problème**\n",
        "\n"
      ],
      "metadata": {
        "id": "8J1MBt5COnty"
      }
    },
    {
      "cell_type": "code",
      "source": [
        "\"\"\" Cette fonction lorsque elle est appeler applique les contraintes, lance le solveur et affiche une solution si elle existe  \"\"\"\n",
        "def Resolution():\n",
        "  Constrainte1()\n",
        "  Contrainte_2()\n",
        "  Contrainte_3()\n",
        "  Contrainte_4()\n",
        "  if solve(solver=ACE) is SAT:\n",
        "    print(values(x))\n",
        "  else:\n",
        "    print(\"PAS DE SOLUTION\")"
      ],
      "metadata": {
        "id": "fgeNJqhhOue2"
      },
      "execution_count": null,
      "outputs": []
    },
    {
      "cell_type": "code",
      "source": [
        "Resolution()"
      ],
      "metadata": {
        "colab": {
          "base_uri": "https://localhost:8080/"
        },
        "id": "ymrpbSgqRKdX",
        "outputId": "985e48fb-4d3e-4a04-ab5a-41fd160ece37"
      },
      "execution_count": null,
      "outputs": [
        {
          "output_type": "stream",
          "name": "stdout",
          "text": [
            "[\n",
            "  [0, 1, 0, 1, 1, 1, 1]\n",
            "  [0, 0, 1, 1, 1, 1, 1]\n",
            "  [0, 0, 1, 1, 1, 0, 0]\n",
            "  [1, 1, 1, 1, 1, 1, 0]\n",
            "  [0, 1, 1, 0, 1, 1, 1]\n",
            "  [0, 1, 0, 1, 1, 1, 1]\n",
            "  [0, 0, 0, 0, 0, 0, 0]\n",
            "  [1, 0, 0, 0, 0, 0, 1]\n",
            "  [0, 1, 1, 1, 0, 0, 0]\n",
            "  [1, 0, 0, 1, 1, 1, 1]\n",
            "  [0, 1, 1, 1, 0, 1, 1]\n",
            "  [1, 0, 0, 1, 1, 1, 1]\n",
            "  [1, 1, 1, 0, 0, 1, 1]\n",
            "  [1, 1, 1, 1, 1, 0, 0]\n",
            "]\n"
          ]
        }
      ]
    },
    {
      "cell_type": "markdown",
      "source": [
        "Dans cette partie est définit la méthode de la résolution incrémental présenté dans le rapport ou dans le cas ou on ne trouve pas de solution nous remplaçant la contrainte 1 par : \n",
        "\\begin{equation}\n",
        "      \\sum\\limits_{i\\in E} x_{ij} \\times disp(i,j) \\leq ne(j), ~~\\forall j\\in J\n",
        "    \\end{equation}"
      ],
      "metadata": {
        "id": "_4H7ZTckROWb"
      }
    },
    {
      "cell_type": "code",
      "source": [
        "def Constrainte1_2():\n",
        "  satisfy(\n",
        "           Sum(x[j,i]*disp[j][i] for j in range(len(disp))) <= NE[i] for i in range(7)\n",
        "\n",
        "  );"
      ],
      "metadata": {
        "id": "4rQkCQh4TXa3"
      },
      "execution_count": null,
      "outputs": []
    },
    {
      "cell_type": "code",
      "source": [
        "def Inremental_Resolution():\n",
        "  Contrainte_2()\n",
        "  Contrainte_3()\n",
        "  Contrainte_4()\n",
        "  Constrainte1()\n",
        "  if solve() is SAT:\n",
        "    print(values(x))\n",
        "  else:\n",
        "    unpost()\n",
        "    Constrainte1_2()\n",
        "    if solve() is SAT:\n",
        "      print(values(x))\n",
        "    else:\n",
        "        print(\"PAS DE SOLUTION\")\n"
      ],
      "metadata": {
        "id": "QGG7lqKbROws"
      },
      "execution_count": null,
      "outputs": []
    },
    {
      "cell_type": "code",
      "source": [
        "Inremental_Resolution()"
      ],
      "metadata": {
        "colab": {
          "base_uri": "https://localhost:8080/"
        },
        "id": "uAIeui8NUef4",
        "outputId": "8025038b-69d5-44e7-f5a9-455a580b5fdd"
      },
      "execution_count": null,
      "outputs": [
        {
          "output_type": "stream",
          "name": "stdout",
          "text": [
            "[\n",
            "  [0, 1, 0, 1, 1, 1, 1]\n",
            "  [0, 0, 1, 1, 1, 1, 1]\n",
            "  [0, 0, 1, 1, 1, 0, 0]\n",
            "  [1, 1, 1, 1, 1, 1, 0]\n",
            "  [0, 1, 1, 0, 1, 1, 1]\n",
            "  [0, 1, 0, 1, 1, 1, 1]\n",
            "  [0, 0, 0, 0, 0, 0, 0]\n",
            "  [1, 0, 0, 0, 0, 0, 1]\n",
            "  [0, 1, 1, 1, 0, 0, 0]\n",
            "  [1, 0, 0, 1, 1, 1, 1]\n",
            "  [0, 1, 1, 1, 0, 1, 1]\n",
            "  [1, 0, 0, 1, 1, 1, 1]\n",
            "  [1, 1, 1, 0, 0, 1, 1]\n",
            "  [1, 1, 1, 1, 1, 0, 0]\n",
            "]\n"
          ]
        }
      ]
    },
    {
      "cell_type": "markdown",
      "source": [
        "*   **Partie Optimisation**\n",
        "\n",
        "Comme mentionné dans le rapport, Un employé qui travaille sur deux ou plusieurs jours consécutifs va utiliser le même camion pour ses livraisons, c'est pour cela que idéalement, il est préférable qu'un employé soit affecté  sur des jours consécutifs, pour éviter qu'il ai à remettre le camion utilisé pour ses livraisons, à l'un de ses collègues planifié à travailler le lendemain.  \n",
        "C’est pour cela que nous voudriont que la solution obtenu respecter le plus posible cette contrainte.\n",
        "\n",
        "$$  \\forall (i,l,k)\\in J \\ ,avec :  i≤ℓ≤k,  ~x_{ei}+x_{ek} \\leq 1+x_{el}, \\forall e\\in E $$ \n"
      ],
      "metadata": {
        "id": "YjYKs2lQUobR"
      }
    },
    {
      "cell_type": "code",
      "source": [
        "def Maximize_constrait():\n",
        "  maximize(\n",
        "      Sum(Sum(x[j,i]+x[j,k]) <= Sum(1+x[j,l]) if i<=l and l<=k else None for i in range(7) for l in range(7) for k in range(7) for j in range(len(disp)))\n",
        "  );"
      ],
      "metadata": {
        "id": "OfP9TPnWUuVw"
      },
      "execution_count": null,
      "outputs": []
    },
    {
      "cell_type": "code",
      "source": [
        "\"\"\" Dans ce block on affiche les solution optimal trouver \"\"\"\n",
        "def optimal_solutions():\n",
        "  Constrainte1()\n",
        "  Contrainte_2()\n",
        "  Contrainte_3()\n",
        "  Contrainte_4()\n",
        "  Maximize_constrait()\n",
        "  if solve(solver = ACE,sols = ALL) is  OPTIMUM:\n",
        "      print(\"Number of solutions: \",n_solutions())\n",
        "      for i in range(n_solutions()):\n",
        "        print (f\"Solution {i+1}\")\n",
        "        print(values(x,sol=i))\n"
      ],
      "metadata": {
        "id": "bODuTibram-S"
      },
      "execution_count": null,
      "outputs": []
    },
    {
      "cell_type": "code",
      "source": [
        "optimal_solutions()\n"
      ],
      "metadata": {
        "colab": {
          "base_uri": "https://localhost:8080/"
        },
        "id": "bgJ-fxeViFCu",
        "outputId": "0267fb67-40e8-4c04-ba3e-971095d0de23"
      },
      "execution_count": null,
      "outputs": [
        {
          "output_type": "stream",
          "name": "stdout",
          "text": [
            "Number of solutions:  6\n",
            "Solution 1\n",
            "[\n",
            "  [0, 1, 0, 1, 1, 1, 1]\n",
            "  [0, 0, 1, 1, 1, 1, 1]\n",
            "  [0, 0, 1, 1, 1, 0, 0]\n",
            "  [1, 1, 1, 1, 0, 1, 0]\n",
            "  [0, 1, 1, 0, 1, 1, 1]\n",
            "  [0, 1, 0, 1, 1, 1, 1]\n",
            "  [0, 0, 0, 0, 0, 0, 0]\n",
            "  [1, 0, 0, 0, 0, 0, 1]\n",
            "  [0, 1, 1, 1, 0, 0, 0]\n",
            "  [1, 0, 0, 1, 1, 1, 1]\n",
            "  [0, 1, 1, 1, 0, 1, 1]\n",
            "  [1, 0, 0, 1, 1, 1, 1]\n",
            "  [1, 1, 1, 0, 1, 1, 1]\n",
            "  [1, 1, 1, 1, 1, 0, 0]\n",
            "]\n",
            "Solution 2\n",
            "[\n",
            "  [0, 1, 0, 1, 1, 1, 1]\n",
            "  [0, 0, 1, 1, 1, 1, 1]\n",
            "  [0, 0, 1, 1, 1, 0, 0]\n",
            "  [1, 1, 1, 1, 1, 1, 0]\n",
            "  [0, 1, 1, 0, 1, 1, 1]\n",
            "  [0, 1, 0, 1, 1, 1, 1]\n",
            "  [0, 0, 0, 0, 0, 0, 0]\n",
            "  [1, 0, 0, 0, 0, 0, 1]\n",
            "  [0, 1, 1, 1, 0, 0, 0]\n",
            "  [1, 0, 0, 1, 1, 1, 1]\n",
            "  [0, 1, 1, 1, 0, 1, 1]\n",
            "  [1, 0, 1, 1, 0, 1, 1]\n",
            "  [1, 1, 1, 0, 1, 1, 1]\n",
            "  [1, 1, 1, 1, 1, 0, 0]\n",
            "]\n",
            "Solution 3\n",
            "[\n",
            "  [0, 1, 0, 1, 1, 1, 1]\n",
            "  [0, 0, 1, 1, 1, 1, 1]\n",
            "  [0, 0, 1, 1, 1, 0, 0]\n",
            "  [1, 1, 1, 1, 1, 1, 0]\n",
            "  [0, 1, 1, 0, 1, 1, 1]\n",
            "  [0, 1, 0, 1, 1, 1, 1]\n",
            "  [0, 0, 0, 0, 0, 0, 0]\n",
            "  [1, 0, 0, 0, 0, 0, 1]\n",
            "  [0, 1, 1, 1, 0, 0, 0]\n",
            "  [1, 0, 0, 1, 1, 1, 1]\n",
            "  [0, 1, 1, 1, 0, 1, 1]\n",
            "  [1, 0, 1, 0, 1, 1, 1]\n",
            "  [1, 1, 1, 1, 0, 1, 1]\n",
            "  [1, 1, 1, 1, 1, 0, 0]\n",
            "]\n",
            "Solution 4\n",
            "[\n",
            "  [0, 1, 0, 1, 1, 1, 1]\n",
            "  [0, 0, 1, 1, 1, 1, 1]\n",
            "  [0, 0, 1, 1, 1, 0, 0]\n",
            "  [1, 1, 1, 1, 1, 1, 0]\n",
            "  [0, 1, 1, 0, 1, 1, 1]\n",
            "  [0, 1, 0, 1, 1, 1, 1]\n",
            "  [0, 0, 0, 0, 0, 0, 0]\n",
            "  [1, 0, 0, 0, 0, 0, 1]\n",
            "  [0, 1, 1, 1, 0, 0, 0]\n",
            "  [1, 0, 0, 1, 1, 1, 1]\n",
            "  [0, 1, 1, 0, 1, 1, 1]\n",
            "  [1, 0, 0, 1, 1, 1, 1]\n",
            "  [1, 1, 1, 1, 0, 1, 1]\n",
            "  [1, 1, 1, 1, 1, 0, 0]\n",
            "]\n",
            "Solution 5\n",
            "[\n",
            "  [0, 1, 0, 1, 1, 1, 1]\n",
            "  [0, 0, 1, 1, 1, 1, 1]\n",
            "  [0, 0, 1, 1, 1, 0, 0]\n",
            "  [1, 1, 1, 1, 1, 1, 0]\n",
            "  [0, 1, 1, 1, 1, 1, 1]\n",
            "  [0, 1, 0, 1, 1, 1, 1]\n",
            "  [0, 0, 0, 0, 0, 0, 0]\n",
            "  [1, 0, 0, 0, 0, 0, 1]\n",
            "  [0, 1, 1, 1, 0, 0, 0]\n",
            "  [1, 0, 0, 1, 1, 1, 1]\n",
            "  [0, 1, 1, 0, 1, 1, 1]\n",
            "  [1, 0, 1, 0, 1, 1, 1]\n",
            "  [1, 1, 1, 1, 0, 1, 1]\n",
            "  [1, 1, 1, 1, 1, 0, 0]\n",
            "]\n",
            "Solution 6\n",
            "[\n",
            "  [0, 1, 0, 1, 1, 1, 1]\n",
            "  [0, 0, 1, 1, 1, 1, 1]\n",
            "  [0, 0, 1, 1, 1, 0, 0]\n",
            "  [1, 1, 1, 1, 1, 1, 0]\n",
            "  [0, 1, 1, 1, 1, 1, 1]\n",
            "  [0, 1, 1, 1, 1, 1, 1]\n",
            "  [0, 0, 0, 0, 0, 0, 0]\n",
            "  [1, 0, 0, 0, 0, 0, 1]\n",
            "  [0, 1, 1, 1, 0, 0, 0]\n",
            "  [1, 0, 0, 1, 1, 1, 1]\n",
            "  [0, 1, 0, 1, 1, 1, 1]\n",
            "  [1, 0, 1, 0, 1, 1, 1]\n",
            "  [1, 1, 1, 0, 0, 1, 1]\n",
            "  [1, 1, 1, 1, 1, 0, 0]\n",
            "]\n"
          ]
        }
      ]
    },
    {
      "cell_type": "markdown",
      "source": [
        "Apres réflexion, j’ai estimé que la méthode de résolution incrémental est peu efficace surtout dans certain cas. C’est pour cela j’ai décider de remplacer les contraintes 1 définit par une seul contrainte conditionnel qui stipule que : Le nombre d’employés travaillant en une journée donnée doit etre égale au nombre d’employé nécessaires pour cette journée  si il lui est supérieur ou égal. Sinon, il est égale au nombre d’employé disponible pendant cette journée."
      ],
      "metadata": {
        "id": "ctiZ1hbBbEDy"
      }
    },
    {
      "cell_type": "code",
      "source": [
        "def Constrainte1():\n",
        "  satisfy(\n",
        "    \n",
        "          Sum(x[j,i]*tr_disp[i][j] for j in range(len(disp))) == NE[i] if NE[i] <= sum_tr[i] else Sum(x[j,i]*tr_disp[i][j] for j in range(len(disp))) == sum_tr[i]   for i in range(7)\n",
        "\n",
        "  );\n"
      ],
      "metadata": {
        "id": "PtIZ2PdydT7S"
      },
      "execution_count": null,
      "outputs": []
    },
    {
      "cell_type": "code",
      "source": [
        "optimal_solutions()"
      ],
      "metadata": {
        "colab": {
          "base_uri": "https://localhost:8080/"
        },
        "id": "SmqeSAK3iCXO",
        "outputId": "5d25946f-7991-461c-e59f-046979abe5ff"
      },
      "execution_count": null,
      "outputs": [
        {
          "output_type": "stream",
          "name": "stdout",
          "text": [
            "Number of solutions:  6\n",
            "Solution 1\n",
            "[\n",
            "  [0, 1, 0, 1, 1, 1, 1]\n",
            "  [0, 0, 1, 1, 1, 1, 1]\n",
            "  [0, 0, 1, 1, 1, 0, 0]\n",
            "  [1, 1, 1, 1, 0, 1, 0]\n",
            "  [0, 1, 1, 0, 1, 1, 1]\n",
            "  [0, 1, 0, 1, 1, 1, 1]\n",
            "  [0, 0, 0, 0, 0, 0, 0]\n",
            "  [1, 0, 0, 0, 0, 0, 1]\n",
            "  [0, 1, 1, 1, 0, 0, 0]\n",
            "  [1, 0, 0, 1, 1, 1, 1]\n",
            "  [0, 1, 1, 1, 0, 1, 1]\n",
            "  [1, 0, 0, 1, 1, 1, 1]\n",
            "  [1, 1, 1, 0, 1, 1, 1]\n",
            "  [1, 1, 1, 1, 1, 0, 0]\n",
            "]\n",
            "Solution 2\n",
            "[\n",
            "  [0, 1, 0, 1, 1, 1, 1]\n",
            "  [0, 0, 1, 1, 1, 1, 1]\n",
            "  [0, 0, 1, 1, 1, 0, 0]\n",
            "  [1, 1, 1, 1, 1, 1, 0]\n",
            "  [0, 1, 1, 0, 1, 1, 1]\n",
            "  [0, 1, 0, 1, 1, 1, 1]\n",
            "  [0, 0, 0, 0, 0, 0, 0]\n",
            "  [1, 0, 0, 0, 0, 0, 1]\n",
            "  [0, 1, 1, 1, 0, 0, 0]\n",
            "  [1, 0, 0, 1, 1, 1, 1]\n",
            "  [0, 1, 1, 1, 0, 1, 1]\n",
            "  [1, 0, 1, 1, 0, 1, 1]\n",
            "  [1, 1, 1, 0, 1, 1, 1]\n",
            "  [1, 1, 1, 1, 1, 0, 0]\n",
            "]\n",
            "Solution 3\n",
            "[\n",
            "  [0, 1, 0, 1, 1, 1, 1]\n",
            "  [0, 0, 1, 1, 1, 1, 1]\n",
            "  [0, 0, 1, 1, 1, 0, 0]\n",
            "  [1, 1, 1, 1, 1, 1, 0]\n",
            "  [0, 1, 1, 0, 1, 1, 1]\n",
            "  [0, 1, 0, 1, 1, 1, 1]\n",
            "  [0, 0, 0, 0, 0, 0, 0]\n",
            "  [1, 0, 0, 0, 0, 0, 1]\n",
            "  [0, 1, 1, 1, 0, 0, 0]\n",
            "  [1, 0, 0, 1, 1, 1, 1]\n",
            "  [0, 1, 1, 1, 0, 1, 1]\n",
            "  [1, 0, 1, 0, 1, 1, 1]\n",
            "  [1, 1, 1, 1, 0, 1, 1]\n",
            "  [1, 1, 1, 1, 1, 0, 0]\n",
            "]\n",
            "Solution 4\n",
            "[\n",
            "  [0, 1, 0, 1, 1, 1, 1]\n",
            "  [0, 0, 1, 1, 1, 1, 1]\n",
            "  [0, 0, 1, 1, 1, 0, 0]\n",
            "  [1, 1, 1, 1, 1, 1, 0]\n",
            "  [0, 1, 1, 0, 1, 1, 1]\n",
            "  [0, 1, 0, 1, 1, 1, 1]\n",
            "  [0, 0, 0, 0, 0, 0, 0]\n",
            "  [1, 0, 0, 0, 0, 0, 1]\n",
            "  [0, 1, 1, 1, 0, 0, 0]\n",
            "  [1, 0, 0, 1, 1, 1, 1]\n",
            "  [0, 1, 1, 0, 1, 1, 1]\n",
            "  [1, 0, 0, 1, 1, 1, 1]\n",
            "  [1, 1, 1, 1, 0, 1, 1]\n",
            "  [1, 1, 1, 1, 1, 0, 0]\n",
            "]\n",
            "Solution 5\n",
            "[\n",
            "  [0, 1, 0, 1, 1, 1, 1]\n",
            "  [0, 0, 1, 1, 1, 1, 1]\n",
            "  [0, 0, 1, 1, 1, 0, 0]\n",
            "  [1, 1, 1, 1, 1, 1, 0]\n",
            "  [0, 1, 1, 1, 1, 1, 1]\n",
            "  [0, 1, 0, 1, 1, 1, 1]\n",
            "  [0, 0, 0, 0, 0, 0, 0]\n",
            "  [1, 0, 0, 0, 0, 0, 1]\n",
            "  [0, 1, 1, 1, 0, 0, 0]\n",
            "  [1, 0, 0, 1, 1, 1, 1]\n",
            "  [0, 1, 1, 0, 1, 1, 1]\n",
            "  [1, 0, 1, 0, 1, 1, 1]\n",
            "  [1, 1, 1, 1, 0, 1, 1]\n",
            "  [1, 1, 1, 1, 1, 0, 0]\n",
            "]\n",
            "Solution 6\n",
            "[\n",
            "  [0, 1, 0, 1, 1, 1, 1]\n",
            "  [0, 0, 1, 1, 1, 1, 1]\n",
            "  [0, 0, 1, 1, 1, 0, 0]\n",
            "  [1, 1, 1, 1, 1, 1, 0]\n",
            "  [0, 1, 1, 1, 1, 1, 1]\n",
            "  [0, 1, 1, 1, 1, 1, 1]\n",
            "  [0, 0, 0, 0, 0, 0, 0]\n",
            "  [1, 0, 0, 0, 0, 0, 1]\n",
            "  [0, 1, 1, 1, 0, 0, 0]\n",
            "  [1, 0, 0, 1, 1, 1, 1]\n",
            "  [0, 1, 0, 1, 1, 1, 1]\n",
            "  [1, 0, 1, 0, 1, 1, 1]\n",
            "  [1, 1, 1, 0, 0, 1, 1]\n",
            "  [1, 1, 1, 1, 1, 0, 0]\n",
            "]\n"
          ]
        }
      ]
    },
    {
      "cell_type": "code",
      "source": [],
      "metadata": {
        "id": "-gqYcy7wi03Q"
      },
      "execution_count": null,
      "outputs": []
    }
  ]
}